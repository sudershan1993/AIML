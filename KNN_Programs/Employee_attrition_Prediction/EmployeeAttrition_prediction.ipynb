{
  "nbformat": 4,
  "nbformat_minor": 0,
  "metadata": {
    "colab": {
      "provenance": [],
      "authorship_tag": "ABX9TyNWCWFN6NE4iRaFdyTureJa",
      "include_colab_link": true
    },
    "kernelspec": {
      "name": "python3",
      "display_name": "Python 3"
    },
    "language_info": {
      "name": "python"
    }
  },
  "cells": [
    {
      "cell_type": "markdown",
      "metadata": {
        "id": "view-in-github",
        "colab_type": "text"
      },
      "source": [
        "<a href=\"https://colab.research.google.com/github/sudershan1993/AIML/blob/main/KNN_Programs/Employee_attrition_Prediction/EmployeeAttrition_prediction.ipynb\" target=\"_parent\"><img src=\"https://colab.research.google.com/assets/colab-badge.svg\" alt=\"Open In Colab\"/></a>"
      ]
    },
    {
      "cell_type": "code",
      "execution_count": 25,
      "metadata": {
        "id": "zXm4XekShmgm"
      },
      "outputs": [],
      "source": [
        "from pandas import read_csv\n",
        "from sklearn.model_selection import cross_val_score\n",
        "from sklearn.linear_model import LogisticRegression\n",
        "from sklearn import preprocessing\n",
        "from sklearn.neighbors import KNeighborsClassifier\n",
        "from sklearn.model_selection import train_test_split\n",
        "import numpy as np\n",
        "from sklearn.metrics import accuracy_score\n",
        "\n",
        "# step 2: read the data from the csv file\n",
        "filename = '/content/sample_data/employee_attrition_test.csv'\n",
        "names = ['Age','YearsAtCompany','JobRole','MonthlyIncome','JobSatisfaction','Attrition']\n",
        "df = read_csv(filename, names=names,skiprows=1)"
      ]
    },
    {
      "cell_type": "code",
      "source": [
        "# step 3: do preprocessing - in this case do label encoding for the last column\n",
        "# label_encoder object knows how to understand word labels.\n",
        "jobRole_label_encoder = preprocessing.LabelEncoder()\n",
        "df['JobRole']= jobRole_label_encoder.fit_transform(df['JobRole'])\n",
        "jobSatisfaction_label_encoder = preprocessing.LabelEncoder()\n",
        "df['JobSatisfaction']= jobSatisfaction_label_encoder.fit_transform(df['JobSatisfaction'])\n",
        "attrition_label_encoder = preprocessing.LabelEncoder()\n",
        "df['Attrition']= attrition_label_encoder.fit_transform(df['Attrition'])\n",
        "print(df[:10])\n",
        "print(df['Attrition'].value_counts())\n",
        "array = df.values"
      ],
      "metadata": {
        "colab": {
          "base_uri": "https://localhost:8080/"
        },
        "id": "WtIzcOTLWVz4",
        "outputId": "01b07f3f-3765-44e2-d9af-332c943882cc"
      },
      "execution_count": 26,
      "outputs": [
        {
          "output_type": "stream",
          "name": "stdout",
          "text": [
            "   Age  YearsAtCompany  JobRole  MonthlyIncome  JobSatisfaction  Attrition\n",
            "0   36              13        2           8029                0          1\n",
            "1   35               7        0           4563                0          0\n",
            "2   50               7        0           5583                0          1\n",
            "3   58              44        3           5525                3          0\n",
            "4   39              24        0           4604                0          1\n",
            "5   45              30        2           8104                0          1\n",
            "6   22               5        2           8700                0          1\n",
            "7   34              15        4          11025                2          0\n",
            "8   48              40        4          11452                2          1\n",
            "9   55              16        3           5939                0          1\n",
            "Attrition\n",
            "1    7868\n",
            "0    7032\n",
            "Name: count, dtype: int64\n"
          ]
        }
      ]
    },
    {
      "cell_type": "code",
      "source": [
        "# step 4: split to input and output\n",
        "inputx = array[:,0:5]\n",
        "outputy = array[:,5]\n",
        "input_train, input_test, output_train, output_test = train_test_split(inputx, outputy, test_size = 0.35, random_state = 7)\n"
      ],
      "metadata": {
        "id": "4Do4ISYCWEMF"
      },
      "execution_count": 27,
      "outputs": []
    },
    {
      "cell_type": "code",
      "source": [
        "#Step 5 intialize the Model\n",
        "model = KNeighborsClassifier(n_neighbors=3,weights='distance', metric='euclidean')\n",
        "print(\"\\nThe model selected is\",model.fit(input_train,output_train))\n",
        "\n",
        "#Returns a single numeric value showing how well the model performs on the given data (X, y), range[0,1]\n",
        "print(\"\\nThe model score is--->\" , model.score(input_train,output_train))"
      ],
      "metadata": {
        "colab": {
          "base_uri": "https://localhost:8080/"
        },
        "id": "a3qpgCdSWARi",
        "outputId": "61455567-07fa-4aa1-f799-9a52d811a20b"
      },
      "execution_count": 31,
      "outputs": [
        {
          "output_type": "stream",
          "name": "stdout",
          "text": [
            "\n",
            "The model selected is KNeighborsClassifier(metric='euclidean', n_neighbors=3, weights='distance')\n",
            "\n",
            "The model score is---> 1.0\n"
          ]
        }
      ]
    },
    {
      "cell_type": "code",
      "source": [
        "# Step 6 Test the model against testData\n",
        "new_test_data_res=model.predict(input_test)\n",
        "print(\"Accuracy:\", accuracy_score(output_test, new_test_data_res))"
      ],
      "metadata": {
        "colab": {
          "base_uri": "https://localhost:8080/"
        },
        "id": "R_GWbE4oWZie",
        "outputId": "76e7d33e-9b32-4cc4-85d7-342bb6893f1c"
      },
      "execution_count": 33,
      "outputs": [
        {
          "output_type": "stream",
          "name": "stdout",
          "text": [
            "Accuracy: 0.5010546500479386\n"
          ]
        }
      ]
    },
    {
      "cell_type": "code",
      "source": [
        "#cross_val_score() is a scikit-learn function used to measure\n",
        "# how well your model performs across multiple train-test splits of your dataset — not just one.\n",
        "\n",
        "scores = cross_val_score(model, input_train, output_train, cv=10)\n",
        "print(\"Cross-validation scores:\", scores)\n",
        "\n",
        "#Mean accuracy is simply the average accuracy your model achieved across all the\n",
        "#folds during cross-validation.\n",
        "\n",
        "print(\"Mean accuracy:\", scores.mean())"
      ],
      "metadata": {
        "colab": {
          "base_uri": "https://localhost:8080/"
        },
        "id": "uULUokY7DeAG",
        "outputId": "8432ce32-4869-4bec-88aa-608aa35094c5"
      },
      "execution_count": 34,
      "outputs": [
        {
          "output_type": "stream",
          "name": "stdout",
          "text": [
            "Cross-validation scores: [0.52321981 0.50567595 0.51702786 0.50980392 0.51186791 0.51859504\n",
            " 0.51549587 0.49070248 0.5268595  0.50206612]\n",
            "Mean accuracy: 0.5121314467500788\n"
          ]
        }
      ]
    }
  ]
}