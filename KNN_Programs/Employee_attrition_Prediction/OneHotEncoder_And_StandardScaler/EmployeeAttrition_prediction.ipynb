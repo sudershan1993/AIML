{
  "nbformat": 4,
  "nbformat_minor": 0,
  "metadata": {
    "colab": {
      "provenance": [],
      "authorship_tag": "ABX9TyOpo1IwmH7WPdFgOAePmnrJ",
      "include_colab_link": true
    },
    "kernelspec": {
      "name": "python3",
      "display_name": "Python 3"
    },
    "language_info": {
      "name": "python"
    }
  },
  "cells": [
    {
      "cell_type": "markdown",
      "metadata": {
        "id": "view-in-github",
        "colab_type": "text"
      },
      "source": [
        "<a href=\"https://colab.research.google.com/github/sudershan1993/AIML/blob/main/KNN_Programs/Employee_attrition_Prediction/OneHotEncoder_And_StandardScaler/EmployeeAttrition_prediction.ipynb\" target=\"_parent\"><img src=\"https://colab.research.google.com/assets/colab-badge.svg\" alt=\"Open In Colab\"/></a>"
      ]
    },
    {
      "cell_type": "code",
      "execution_count": 38,
      "metadata": {
        "id": "zXm4XekShmgm"
      },
      "outputs": [],
      "source": [
        "from pandas import read_csv\n",
        "from sklearn.model_selection import cross_val_score\n",
        "from sklearn.linear_model import LogisticRegression\n",
        "from sklearn import preprocessing\n",
        "from sklearn.neighbors import KNeighborsClassifier\n",
        "from sklearn.model_selection import train_test_split\n",
        "import numpy as np\n",
        "from sklearn.metrics import accuracy_score\n",
        "\n",
        "# step 2: read the data from the csv file\n",
        "filename = 'https://raw.githubusercontent.com/sudershan1993/AIML/refs/heads/main/KNN_Programs/Employee_attrition_Prediction/employee_attrition_train.csv'\n",
        "names = ['Age','Years at Company','Job Role','Monthly Income','Job Satisfaction','Attrition']\n",
        "df = read_csv(filename, names=names,skiprows=1)"
      ]
    },
    {
      "cell_type": "code",
      "source": [
        "# step 3: Describe the dataset\n",
        "print(df.describe().T)\n",
        "print(df.groupby('Attrition').size())\n",
        "print(df.dtypes)"
      ],
      "metadata": {
        "colab": {
          "base_uri": "https://localhost:8080/"
        },
        "id": "Fn0gYy36qJaT",
        "outputId": "e03d7d58-648c-422f-a57b-0aa865731b27"
      },
      "execution_count": 39,
      "outputs": [
        {
          "output_type": "stream",
          "name": "stdout",
          "text": [
            "                    count         mean          std     min     25%     50%  \\\n",
            "Age               59598.0    38.565875    12.079673    18.0    28.0    39.0   \n",
            "Years at Company  59598.0    15.753901    11.245981     1.0     7.0    13.0   \n",
            "Monthly Income    59598.0  7302.397983  2151.457423  1316.0  5658.0  7354.0   \n",
            "\n",
            "                     75%      max  \n",
            "Age                 49.0     59.0  \n",
            "Years at Company    23.0     51.0  \n",
            "Monthly Income    8880.0  16149.0  \n",
            "Attrition\n",
            "Left      28338\n",
            "Stayed    31260\n",
            "dtype: int64\n",
            "Age                  int64\n",
            "Years at Company     int64\n",
            "Job Role            object\n",
            "Monthly Income       int64\n",
            "Job Satisfaction    object\n",
            "Attrition           object\n",
            "dtype: object\n"
          ]
        }
      ]
    },
    {
      "cell_type": "code",
      "source": [
        "from sklearn.preprocessing import StandardScaler\n",
        "sc = StandardScaler()\n",
        "\n",
        "continuous_cols = ['Age','Years at Company','Monthly Income']\n",
        "\n",
        "df[continuous_cols] = sc.fit_transform(df[continuous_cols])"
      ],
      "metadata": {
        "id": "HyY48l9vtlh0"
      },
      "execution_count": 40,
      "outputs": []
    },
    {
      "cell_type": "code",
      "source": [
        "from sklearn.compose import ColumnTransformer\n",
        "from sklearn.preprocessing import OneHotEncoder\n",
        "from sklearn.preprocessing import LabelEncoder\n",
        "\n",
        "ohe = OneHotEncoder(drop='first', sparse_output = False).set_output(transform = 'pandas') #drop='first' in OneHotEncoder removes the first dummy variable (category) for each encoded column.\n",
        "ct = ColumnTransformer(transformers = [('encoder',ohe,[2,4,5])],remainder = 'passthrough')\n",
        "inputx = ct.fit_transform(df)"
      ],
      "metadata": {
        "id": "g8Kx3R4Kuyye"
      },
      "execution_count": 41,
      "outputs": []
    },
    {
      "cell_type": "code",
      "source": [
        "attrition_label_encoder = preprocessing.LabelEncoder()\n",
        "outputy= attrition_label_encoder.fit_transform(df['Attrition'])\n"
      ],
      "metadata": {
        "id": "0ZZcLlSJvP0m"
      },
      "execution_count": 46,
      "outputs": []
    },
    {
      "cell_type": "code",
      "source": [
        "# Split the data into test and train set\n",
        "input_train, input_test, output_train, output_test = train_test_split(inputx, outputy, test_size = 0.25, random_state = 7)"
      ],
      "metadata": {
        "id": "PxdnLFdvxMMt"
      },
      "execution_count": null,
      "outputs": []
    },
    {
      "cell_type": "code",
      "source": [
        "#Step 5 intialize the Model\n",
        "model = KNeighborsClassifier(n_neighbors=3,weights='distance', metric='euclidean')\n",
        "print(\"\\nThe model selected is\",model.fit(input_train,output_train))\n",
        "\n",
        "#Returns a single numeric value showing how well the model performs on the given data (X, y), range[0,1]\n",
        "print(\"\\nThe model score is--->\" , model.score(input_train,output_train))"
      ],
      "metadata": {
        "colab": {
          "base_uri": "https://localhost:8080/"
        },
        "id": "a3qpgCdSWARi",
        "outputId": "d9c77a05-b035-478c-abf6-2e8db6e721ab"
      },
      "execution_count": 47,
      "outputs": [
        {
          "output_type": "stream",
          "name": "stdout",
          "text": [
            "\n",
            "The model selected is KNeighborsClassifier(metric='euclidean', n_neighbors=3, weights='distance')\n",
            "\n",
            "The model score is---> 1.0\n"
          ]
        }
      ]
    },
    {
      "cell_type": "code",
      "source": [
        "# Step 6 Test the model against testData\n",
        "new_test_data_res=model.predict(input_test)\n",
        "print(\"Accuracy:\", accuracy_score(output_test, new_test_data_res))"
      ],
      "metadata": {
        "colab": {
          "base_uri": "https://localhost:8080/"
        },
        "id": "R_GWbE4oWZie",
        "outputId": "681a4490-2fb4-4a3d-cc14-df8b2535984b"
      },
      "execution_count": 48,
      "outputs": [
        {
          "output_type": "stream",
          "name": "stdout",
          "text": [
            "Accuracy: 0.9999328859060402\n"
          ]
        }
      ]
    },
    {
      "cell_type": "code",
      "source": [
        "#cross_val_score() is a scikit-learn function used to measure\n",
        "# how well your model performs across multiple train-test splits of your dataset — not just one.\n",
        "\n",
        "scores = cross_val_score(model, input_train, output_train, cv=10)\n",
        "print(\"Cross-validation scores:\", scores)\n",
        "\n",
        "#Mean accuracy is simply the average accuracy your model achieved across all the\n",
        "#folds during cross-validation.\n",
        "\n",
        "print(\"Mean accuracy:\", scores.mean())"
      ],
      "metadata": {
        "colab": {
          "base_uri": "https://localhost:8080/"
        },
        "id": "uULUokY7DeAG",
        "outputId": "88769c82-2c3d-4d70-9401-4b2bd15f6f72"
      },
      "execution_count": 49,
      "outputs": [
        {
          "output_type": "stream",
          "name": "stdout",
          "text": [
            "Cross-validation scores: [1.         1.         1.         1.         1.         0.99977629\n",
            " 1.         1.         1.         1.        ]\n",
            "Mean accuracy: 0.9999776286353468\n"
          ]
        }
      ]
    }
  ]
}